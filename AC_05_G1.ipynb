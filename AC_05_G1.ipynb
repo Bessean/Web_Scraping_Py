{
  "nbformat": 4,
  "nbformat_minor": 0,
  "metadata": {
    "colab": {
      "name": "AC_05_G1.ipynb",
      "provenance": []
    },
    "kernelspec": {
      "name": "python3",
      "display_name": "Python 3"
    },
    "language_info": {
      "name": "python"
    }
  },
  "cells": [
    {
      "cell_type": "markdown",
      "metadata": {
        "id": "pNuTOTDgEN6u"
      },
      "source": [
        "Dois Notebooks:\n",
        "1) Crawlear dados da internet e salvar em um banco de dados.\n",
        "2) Recuperar esses dados do banco e criar visualizações utilizando o plotly.\n",
        "Não se esqueçam de colocar os nomes e RAs dos alunos do grupo.\n",
        "Somente um integrante deve entregar."
      ]
    },
    {
      "cell_type": "code",
      "metadata": {
        "id": "UDiD0_9TMVcA"
      },
      "source": [
        "url2 = 'https://g1.globo.com/'"
      ],
      "execution_count": 13,
      "outputs": []
    },
    {
      "cell_type": "code",
      "metadata": {
        "colab": {
          "base_uri": "https://localhost:8080/"
        },
        "id": "2ESo8-7EMoDV",
        "outputId": "c84844d6-e0e2-4a4d-fd33-0164165ba13e"
      },
      "source": [
        "page2 = requests.get(url2)\n",
        "print(page2)"
      ],
      "execution_count": 14,
      "outputs": [
        {
          "output_type": "stream",
          "text": [
            "<Response [200]>\n"
          ],
          "name": "stdout"
        }
      ]
    },
    {
      "cell_type": "code",
      "metadata": {
        "id": "4RBNj44aMuaz"
      },
      "source": [
        "bs = BeautifulSoup(page2.text, 'html.parser')"
      ],
      "execution_count": 15,
      "outputs": []
    },
    {
      "cell_type": "code",
      "metadata": {
        "colab": {
          "base_uri": "https://localhost:8080/"
        },
        "id": "SX6LXNUBM2xY",
        "outputId": "5603ccd7-a1bd-4495-c850-75e3c6a3af2a"
      },
      "source": [
        "titulo = bs.find_all('h1')\n",
        "titulo = titulo[0].get_text()\n",
        "print(f'Título: {titulo}')"
      ],
      "execution_count": 16,
      "outputs": [
        {
          "output_type": "stream",
          "text": [
            "Título: G1\n"
          ],
          "name": "stdout"
        }
      ]
    },
    {
      "cell_type": "code",
      "metadata": {
        "colab": {
          "base_uri": "https://localhost:8080/"
        },
        "id": "FQBnY9LsNCdL",
        "outputId": "1281533c-c226-40ab-957b-af989b0f5185"
      },
      "source": [
        "paragrafos = bs.find_all('a')\n",
        "paragrafos = [paragrafos[i].get_text() for i in range(0, 10)]\n",
        "print(paragrafos)"
      ],
      "execution_count": 17,
      "outputs": [
        {
          "output_type": "stream",
          "text": [
            "[' G1 ', 'De vacina a cloroquina: entenda o que a CPI investiga e o que já veio à tona', \"Lista: as '15 mentiras' de Pazuello apontadas por Renan Calheiros\", \"Ministro autoriza 'capitã cloroquina' a não responder a algumas perguntas da CPI\", '', 'STF forma maioria para manter concurso da PF no domingo', 'Primeiros brasileiros deportados pela gestão Biden chegam a BH', '', 'Milhares de ovos e vírus newcastle: como é a produção da Butanvac', '']\n"
          ],
          "name": "stdout"
        }
      ]
    },
    {
      "cell_type": "code",
      "metadata": {
        "id": "u-hvOkAGRJIK"
      },
      "source": [
        "texto = ' '.join([paragrafo for paragrafo in paragrafos])"
      ],
      "execution_count": 18,
      "outputs": []
    },
    {
      "cell_type": "code",
      "metadata": {
        "colab": {
          "base_uri": "https://localhost:8080/"
        },
        "id": "l9lMvSI-RUcs",
        "outputId": "0aaaf7a3-5650-4c82-dceb-e5a43f413736"
      },
      "source": [
        "print(texto)"
      ],
      "execution_count": 19,
      "outputs": [
        {
          "output_type": "stream",
          "text": [
            " G1  De vacina a cloroquina: entenda o que a CPI investiga e o que já veio à tona Lista: as '15 mentiras' de Pazuello apontadas por Renan Calheiros Ministro autoriza 'capitã cloroquina' a não responder a algumas perguntas da CPI  STF forma maioria para manter concurso da PF no domingo Primeiros brasileiros deportados pela gestão Biden chegam a BH  Milhares de ovos e vírus newcastle: como é a produção da Butanvac \n"
          ],
          "name": "stdout"
        }
      ]
    }
  ]
}